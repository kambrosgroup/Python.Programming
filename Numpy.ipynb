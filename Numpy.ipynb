{
  "nbformat": 4,
  "nbformat_minor": 0,
  "metadata": {
    "colab": {
      "name": "Numpy.ipynb",
      "provenance": [],
      "authorship_tag": "ABX9TyMgD3/Wb/UbUUmkB0DlmMFf",
      "include_colab_link": true
    },
    "kernelspec": {
      "name": "python3",
      "display_name": "Python 3"
    },
    "language_info": {
      "name": "python"
    }
  },
  "cells": [
    {
      "cell_type": "markdown",
      "metadata": {
        "id": "view-in-github",
        "colab_type": "text"
      },
      "source": [
        "<a href=\"https://colab.research.google.com/github/kambrosgroup/Python.Programming/blob/main/Numpy.ipynb\" target=\"_parent\"><img src=\"https://colab.research.google.com/assets/colab-badge.svg\" alt=\"Open In Colab\"/></a>"
      ]
    },
    {
      "cell_type": "markdown",
      "metadata": {
        "id": "qMuoGOUVl5k7"
      },
      "source": [
        "# Numpy Notebook.\n",
        "\n",
        "## Demonstrating knowledge of numpy package use.\n",
        "\n",
        "### What is numpy?\n",
        "\n",
        "One of the key features of NumPy is its N-dimensitional array object or short for ndarraym which is a fast, flexiable container for large data sets in python. it allows you to perform mathematical operations on whole block of data using similar syntax to the equivalent operation between scalar elements. \n",
        "\n",
        "for example:"
      ]
    },
    {
      "cell_type": "code",
      "metadata": {
        "colab": {
          "base_uri": "https://localhost:8080/"
        },
        "id": "NmObn2bCltE4",
        "outputId": "9ed6d3bf-c2fd-405c-8cf4-b4e004ac827b"
      },
      "source": [
        "#import package to the enviroment.\n",
        "import numpy as np\n",
        "\n",
        "#create np data\n",
        "data1  = np.arange(15).reshape(3, 5)\n",
        "\n",
        "#shape of the data\n",
        "print(\"shape:\", data1.shape)\n",
        "#number of dimension \n",
        "print(\"Dimension:\", data1.ndim)\n",
        "#size\n",
        "print(\"size:\", data1.size)\n",
        "#type\n",
        "print(\"type:\", type(data1))"
      ],
      "execution_count": 4,
      "outputs": [
        {
          "output_type": "stream",
          "name": "stdout",
          "text": [
            "shape: (3, 5)\n",
            "Dimension: 2\n",
            "size: 15\n",
            "type: <class 'numpy.ndarray'>\n"
          ]
        }
      ]
    },
    {
      "cell_type": "markdown",
      "metadata": {
        "id": "xJDAtbACoha2"
      },
      "source": [
        "### creating ndarray\n",
        "\n",
        "there are several ways of creating ndarrays but the easiest one is through array function. this accepts any sequence-like object."
      ]
    },
    {
      "cell_type": "code",
      "metadata": {
        "colab": {
          "base_uri": "https://localhost:8080/"
        },
        "id": "IavhvC2no1Pe",
        "outputId": "79d52086-3329-4835-d2f5-8db6a8f594f8"
      },
      "source": [
        "#using array function\n",
        "data2 = [6,4,7,2,5,0,1]\n",
        "print(\"Before:\", data2)\n",
        "array1 = np.array(data2)\n",
        "print(\"After:\", array1)\n",
        "\n",
        "#alternative\n",
        "data2 = np.array([6,4,7,2,5,0,1])\n",
        "print(\"alternative\",data2)\n",
        "\n",
        "#built-in zeros and ones \n",
        "data2 = np.zeros(10)\n",
        "print(\"zeros:\",data2)\n",
        "data2 = np.ones(10)\n",
        "print(\"ones:\",data2)\n",
        "\n",
        "#built-in range\n",
        "data2 = np.arange(15)\n",
        "print(\"arange:\",data2)"
      ],
      "execution_count": 17,
      "outputs": [
        {
          "output_type": "stream",
          "name": "stdout",
          "text": [
            "Before: [6, 4, 7, 2, 5, 0, 1]\n",
            "After: [6 4 7 2 5 0 1]\n",
            "alternative [6 4 7 2 5 0 1]\n",
            "zeros: [0. 0. 0. 0. 0. 0. 0. 0. 0. 0.]\n",
            "ones: [1. 1. 1. 1. 1. 1. 1. 1. 1. 1.]\n",
            "arange: [ 0  1  2  3  4  5  6  7  8  9 10 11 12 13 14]\n"
          ]
        }
      ]
    },
    {
      "cell_type": "markdown",
      "metadata": {
        "id": "s6wSSqe4qXh9"
      },
      "source": [
        "we can also make multi dimensitional array and explicitly specify the dtype"
      ]
    },
    {
      "cell_type": "code",
      "metadata": {
        "colab": {
          "base_uri": "https://localhost:8080/"
        },
        "id": "lSlWxlHEqk17",
        "outputId": "f794d6e8-7739-4dca-f924-561ad4e4e7e5"
      },
      "source": [
        "#two dimension\n",
        "data2 = np.array([(4,7,2,1,5),(9,1,0,4,2)])\n",
        "print(\"2-dimension: \\n\",data2)\n",
        "print()\n",
        "\n",
        "#five dimension\n",
        "data2 = np.array([(4,7,2,1,5),\n",
        "                  (9,1,0,4,2),\n",
        "                  (2,4,3,7,1),\n",
        "                  (7,6,3,1,2),\n",
        "                  (4,1,9,4,2)], dtype=np.int32) #32-bit integer\n",
        "print(\"5-dimension: \\n\",data2)\n",
        "print()\n",
        "\n",
        "#dtype change\n",
        "data2 = np.array([(4,7,2,1,5),\n",
        "                  (9,1,0,4,2),\n",
        "                  (2,4,3,7,1),\n",
        "                  (7,6,3,1,2),\n",
        "                  (4,1,9,4,2)], dtype=np.complex128) #128-bit complex floating point number\n",
        "print(\"5-dimension(dtype=complex128): \\n\",data2)\n",
        "\n",
        "#cast or convert array\n",
        "data2 = np.arange(10.0)\n",
        "print(data2.dtype, data2)\n",
        "print()\n",
        "#convert to int32\n",
        "data2 = data2.astype(np.int32)\n",
        "print(data2.dtype, data2)\n",
        "print()\n",
        "#convert int to string\n",
        "num_string = np.array(['1.25','9.4','-8.27'], dtype=np.string_)\n",
        "print(num_string)\n",
        "num_string = num_string.astype(float)\n",
        "print(num_string)\n",
        "#convert int to unicode\n",
        "data2 = data2.astype(np.unicode_)\n",
        "print(data2.dtype, data2)\n",
        "print()"
      ],
      "execution_count": 37,
      "outputs": [
        {
          "output_type": "stream",
          "name": "stdout",
          "text": [
            "2-dimension: \n",
            " [[4 7 2 1 5]\n",
            " [9 1 0 4 2]]\n",
            "\n",
            "5-dimension: \n",
            " [[4 7 2 1 5]\n",
            " [9 1 0 4 2]\n",
            " [2 4 3 7 1]\n",
            " [7 6 3 1 2]\n",
            " [4 1 9 4 2]]\n",
            "\n",
            "5-dimension(dtype=complex128): \n",
            " [[4.+0.j 7.+0.j 2.+0.j 1.+0.j 5.+0.j]\n",
            " [9.+0.j 1.+0.j 0.+0.j 4.+0.j 2.+0.j]\n",
            " [2.+0.j 4.+0.j 3.+0.j 7.+0.j 1.+0.j]\n",
            " [7.+0.j 6.+0.j 3.+0.j 1.+0.j 2.+0.j]\n",
            " [4.+0.j 1.+0.j 9.+0.j 4.+0.j 2.+0.j]]\n",
            "float64 [0. 1. 2. 3. 4. 5. 6. 7. 8. 9.]\n",
            "\n",
            "int32 [0 1 2 3 4 5 6 7 8 9]\n",
            "\n",
            "[b'1.25' b'9.4' b'-8.27']\n",
            "[ 1.25  9.4  -8.27]\n",
            "<U11 ['0' '1' '2' '3' '4' '5' '6' '7' '8' '9']\n",
            "\n"
          ]
        }
      ]
    },
    {
      "cell_type": "markdown",
      "metadata": {
        "id": "VpwjJlGX2z6M"
      },
      "source": [
        "### Operation between arrays and scalars\n",
        "Arrays are important because they enable us to express bacth operations on data without any for loops. this is called vectorization and any arithmetic operations between equal-size array applies element-wise. suppose we wanted to multiply two arrays with same size."
      ]
    },
    {
      "cell_type": "code",
      "metadata": {
        "colab": {
          "base_uri": "https://localhost:8080/"
        },
        "id": "LL6FYfcU4He9",
        "outputId": "a420a6de-06e8-4e15-c9c3-0cce63c268c7"
      },
      "source": [
        "array1 = np.arange(15).reshape(3,5) #3 by 5 multi-dimension array\n",
        "print(array1)\n",
        "print()\n",
        "array2 = np.arange(15).reshape(3,5) ** 3 #3 by 5 multi-dimension array to the power of 3\n",
        "print(array2)\n",
        "print()\n",
        "array3 = array1*array2 # multiply array1 and array2 elementwise\n",
        "print(array3)\n",
        "print()\n",
        "array3 = array1+array2 #add\n",
        "print(array3)"
      ],
      "execution_count": 49,
      "outputs": [
        {
          "output_type": "stream",
          "name": "stdout",
          "text": [
            "[[ 0  1  2  3  4]\n",
            " [ 5  6  7  8  9]\n",
            " [10 11 12 13 14]]\n",
            "\n",
            "[[   0    1    8   27   64]\n",
            " [ 125  216  343  512  729]\n",
            " [1000 1331 1728 2197 2744]]\n",
            "\n",
            "[[    0     1    16    81   256]\n",
            " [  625  1296  2401  4096  6561]\n",
            " [10000 14641 20736 28561 38416]]\n",
            "\n",
            "[[   0    2   10   30   68]\n",
            " [ 130  222  350  520  738]\n",
            " [1010 1342 1740 2210 2758]]\n"
          ]
        }
      ]
    },
    {
      "cell_type": "markdown",
      "metadata": {
        "id": "b6zsigES8HsE"
      },
      "source": [
        "### Basic indexing and slicing.\n",
        "\n",
        "numpy array indexing is a rich topic, as there are many ways you may want to select a subset of your data or individual elements. one-dimensional array can be sliced, indexed and iterated over much like list and other python sequences. "
      ]
    },
    {
      "cell_type": "code",
      "metadata": {
        "id": "gvwl93Cc84II"
      },
      "source": [
        ""
      ],
      "execution_count": null,
      "outputs": []
    }
  ]
}