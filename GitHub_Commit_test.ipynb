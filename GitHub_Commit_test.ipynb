{
  "nbformat": 4,
  "nbformat_minor": 0,
  "metadata": {
    "colab": {
      "name": "GitHub_Commit_test.ipynb",
      "provenance": [],
      "authorship_tag": "ABX9TyNKGcvzxyqmfCm5Soj+xgLF",
      "include_colab_link": true
    },
    "kernelspec": {
      "name": "python3",
      "display_name": "Python 3"
    },
    "language_info": {
      "name": "python"
    }
  },
  "cells": [
    {
      "cell_type": "markdown",
      "metadata": {
        "id": "view-in-github",
        "colab_type": "text"
      },
      "source": [
        "<a href=\"https://colab.research.google.com/github/kambrosgroup/Python.Programming/blob/main/GitHub_Commit_test.ipynb\" target=\"_parent\"><img src=\"https://colab.research.google.com/assets/colab-badge.svg\" alt=\"Open In Colab\"/></a>"
      ]
    },
    {
      "cell_type": "code",
      "metadata": {
        "id": "gcyxuNV5oqPT"
      },
      "source": [
        "import pandas as pd\n",
        "import numpy as np\n",
        "import seaborn as sns"
      ],
      "execution_count": 1,
      "outputs": []
    },
    {
      "cell_type": "code",
      "metadata": {
        "colab": {
          "base_uri": "https://localhost:8080/"
        },
        "id": "VRch6JVlo2U-",
        "outputId": "5103607e-9fa4-4581-e996-eaf27437b75e"
      },
      "source": [
        "data = sns.load_dataset('titanic')\n",
        "print(data.describe)"
      ],
      "execution_count": 2,
      "outputs": [
        {
          "output_type": "stream",
          "name": "stdout",
          "text": [
            "<bound method NDFrame.describe of      survived  pclass     sex   age  ...  deck  embark_town  alive  alone\n",
            "0           0       3    male  22.0  ...   NaN  Southampton     no  False\n",
            "1           1       1  female  38.0  ...     C    Cherbourg    yes  False\n",
            "2           1       3  female  26.0  ...   NaN  Southampton    yes   True\n",
            "3           1       1  female  35.0  ...     C  Southampton    yes  False\n",
            "4           0       3    male  35.0  ...   NaN  Southampton     no   True\n",
            "..        ...     ...     ...   ...  ...   ...          ...    ...    ...\n",
            "886         0       2    male  27.0  ...   NaN  Southampton     no   True\n",
            "887         1       1  female  19.0  ...     B  Southampton    yes   True\n",
            "888         0       3  female   NaN  ...   NaN  Southampton     no  False\n",
            "889         1       1    male  26.0  ...     C    Cherbourg    yes   True\n",
            "890         0       3    male  32.0  ...   NaN   Queenstown     no   True\n",
            "\n",
            "[891 rows x 15 columns]>\n"
          ]
        }
      ]
    },
    {
      "cell_type": "code",
      "metadata": {
        "id": "ug32fQVxo2de"
      },
      "source": [
        ""
      ],
      "execution_count": null,
      "outputs": []
    },
    {
      "cell_type": "code",
      "metadata": {
        "id": "_0xODcoTo2g6"
      },
      "source": [
        ""
      ],
      "execution_count": null,
      "outputs": []
    },
    {
      "cell_type": "code",
      "metadata": {
        "id": "u0JOwK39o2lK"
      },
      "source": [
        ""
      ],
      "execution_count": null,
      "outputs": []
    }
  ]
}